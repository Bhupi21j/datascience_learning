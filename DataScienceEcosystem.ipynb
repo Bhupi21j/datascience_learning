{
 "cells": [
  {
   "cell_type": "markdown",
   "id": "ff62722d-9178-487c-a0dd-98f2c68f4997",
   "metadata": {},
   "source": [
    "#Data Science Tools and Ecosystem "
   ]
  },
  {
   "cell_type": "markdown",
   "id": "3eb14de1-4fe5-4da2-97fc-8749a986200b",
   "metadata": {},
   "source": [
    "In this notebook, Data Science Tools and Ecosystem are summarized "
   ]
  },
  {
   "cell_type": "markdown",
   "id": "3727fcbb-af3e-4d34-a4b5-4fd958650ed8",
   "metadata": {},
   "source": [
    "Some of the popular languages that  data scientists use are\n",
    "1 Python\n",
    "2 R\n",
    "3 SQL\n",
    "4 Scala \n",
    "5 Java\n",
    "6 C++  \n",
    "7 Julia. \n",
    "8 JavaScript \n",
    "9 PHP \n",
    "10 Go \n",
    "11 Ruby\n",
    "12 Visual Basic\n"
   ]
  },
  {
   "cell_type": "markdown",
   "id": "f2cbd099-fa98-4e2f-acad-0326a026c849",
   "metadata": {},
   "source": [
    "Some of the the commony used libraries used by  data scientists include \n",
    "1 Pandas\n",
    "2 NumPy\n",
    "3 Matplotlib\n",
    "4 Seaborn\n",
    "5 Scikit-learn\n",
    "6 SciPy\n",
    "7 Keras\n",
    "8 Scikit\n",
    "9 TensorFlow\n",
    "10 Pytorch\n",
    "11 Apache Spark\n",
    "12 Spark library\n",
    "13 Scala\n",
    "14 Vegas\n",
    "15 big DL\n",
    "16 ggplot2\n"
   ]
  },
  {
   "cell_type": "markdown",
   "id": "bab2284d-f2d6-42b0-9cc8-8f0c63724028",
   "metadata": {},
   "source": [
    "|Data Science Tools|\n",
    "--------------------\n",
    "|MySQL              |\n",
    "|MongoDB            |\n",
    "|PostgreSQL         |\n",
    "| Apache CouchDB    |\n",
    "|  Apache Cassandra |\n",
    "| Hadoop File System|\n",
    "| Ceph              |\n",
    "| elastic search.   |\n",
    "---------------------"
   ]
  },
  {
   "cell_type": "markdown",
   "id": "12df4c0e-a262-4d99-b54e-3fa538f64976",
   "metadata": {},
   "source": [
    "###Below are the few examples of evaluating arithmetic expressions in python"
   ]
  },
  {
   "cell_type": "code",
   "execution_count": 1,
   "id": "27c2fa9d-1fac-493b-818b-f7548dbc1c37",
   "metadata": {
    "tags": []
   },
   "outputs": [
    {
     "data": {
      "text/plain": [
       "8"
      ]
     },
     "execution_count": 1,
     "metadata": {},
     "output_type": "execute_result"
    }
   ],
   "source": [
    "3+5"
   ]
  },
  {
   "cell_type": "code",
   "execution_count": 2,
   "id": "e5a5b3a4-76b6-4c4f-9c03-6d353d1014f7",
   "metadata": {
    "tags": []
   },
   "outputs": [
    {
     "data": {
      "text/plain": [
       "18"
      ]
     },
     "execution_count": 2,
     "metadata": {},
     "output_type": "execute_result"
    }
   ],
   "source": [
    "3*6"
   ]
  },
  {
   "cell_type": "code",
   "execution_count": 3,
   "id": "0a7afe3c-5b20-41cd-aef1-bfa283c94f9e",
   "metadata": {
    "tags": []
   },
   "outputs": [
    {
     "data": {
      "text/plain": [
       "2.0"
      ]
     },
     "execution_count": 3,
     "metadata": {},
     "output_type": "execute_result"
    }
   ],
   "source": [
    "6/3"
   ]
  },
  {
   "cell_type": "code",
   "execution_count": 4,
   "id": "13d89fa1-c106-4029-bf89-decd16cd2c79",
   "metadata": {
    "tags": []
   },
   "outputs": [
    {
     "data": {
      "text/plain": [
       "6"
      ]
     },
     "execution_count": 4,
     "metadata": {},
     "output_type": "execute_result"
    }
   ],
   "source": [
    "9-3"
   ]
  },
  {
   "cell_type": "code",
   "execution_count": 5,
   "id": "32c1deba-5384-4d14-9e67-946289f7979e",
   "metadata": {
    "tags": []
   },
   "outputs": [],
   "source": [
    "#  this is a simple arithmetic expression to multiply  then add integer"
   ]
  },
  {
   "cell_type": "code",
   "execution_count": 6,
   "id": "f5fc692e-4d03-467a-b559-1792945347d2",
   "metadata": {
    "tags": []
   },
   "outputs": [
    {
     "data": {
      "text/plain": [
       "29"
      ]
     },
     "execution_count": 6,
     "metadata": {},
     "output_type": "execute_result"
    }
   ],
   "source": [
    "3*8+5"
   ]
  },
  {
   "cell_type": "code",
   "execution_count": 7,
   "id": "44e49b5b-06ff-4d75-8a1c-77685c954c41",
   "metadata": {
    "tags": []
   },
   "outputs": [],
   "source": [
    "# This will convert 200 minutes to hours by dividing  by 60"
   ]
  },
  {
   "cell_type": "code",
   "execution_count": 8,
   "id": "a6d50858-c310-4c5d-9593-269bc6bdb2f1",
   "metadata": {
    "tags": []
   },
   "outputs": [
    {
     "data": {
      "text/plain": [
       "3.3333333333333335"
      ]
     },
     "execution_count": 8,
     "metadata": {},
     "output_type": "execute_result"
    }
   ],
   "source": [
    "200/60"
   ]
  },
  {
   "cell_type": "markdown",
   "id": "87fb55ee-d103-4208-8a0d-f1899f0fde87",
   "metadata": {
    "tags": []
   },
   "source": [
    "**Objectives**"
   ]
  },
  {
   "cell_type": "markdown",
   "id": "8eb8f5a3-59af-444a-9850-cb858f79f78b",
   "metadata": {
    "tags": []
   },
   "source": [
    "Popular languages,\n",
    "Popular library,\n",
    "Popular tools,\n",
    "Jupyter notebook,\n",
    "R programming,\n",
    "Git,\n",
    "Github,\n",
    "\n"
   ]
  },
  {
   "cell_type": "markdown",
   "id": "a14c06d8-8d5f-47bc-b258-e45cb4a31f84",
   "metadata": {},
   "source": [
    "## Author"
   ]
  },
  {
   "cell_type": "markdown",
   "id": "549d8a72-9768-46fe-afe6-03f8944a488e",
   "metadata": {},
   "source": [
    "Bhupendra Singh Uikey"
   ]
  },
  {
   "cell_type": "code",
   "execution_count": null,
   "id": "a1d9fa93-9a1f-4999-8cfe-72cf40137916",
   "metadata": {},
   "outputs": [],
   "source": []
  }
 ],
 "metadata": {
  "kernelspec": {
   "display_name": "Python",
   "language": "python",
   "name": "conda-env-python-py"
  },
  "language_info": {
   "codemirror_mode": {
    "name": "ipython",
    "version": 3
   },
   "file_extension": ".py",
   "mimetype": "text/x-python",
   "name": "python",
   "nbconvert_exporter": "python",
   "pygments_lexer": "ipython3",
   "version": "3.7.12"
  }
 },
 "nbformat": 4,
 "nbformat_minor": 5
}
